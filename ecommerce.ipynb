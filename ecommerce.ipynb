{
 "cells": [
  {
   "attachments": {},
   "cell_type": "markdown",
   "metadata": {},
   "source": [
    "# Initialize Project Ecommerce Lite"
   ]
  },
  {
   "cell_type": "code",
   "execution_count": 1,
   "metadata": {},
   "outputs": [
    {
     "data": {
      "text/html": [
       "<div>\n",
       "<style scoped>\n",
       "    .dataframe tbody tr th:only-of-type {\n",
       "        vertical-align: middle;\n",
       "    }\n",
       "\n",
       "    .dataframe tbody tr th {\n",
       "        vertical-align: top;\n",
       "    }\n",
       "\n",
       "    .dataframe thead th {\n",
       "        text-align: right;\n",
       "    }\n",
       "</style>\n",
       "<table border=\"1\" class=\"dataframe\">\n",
       "  <thead>\n",
       "    <tr style=\"text-align: right;\">\n",
       "      <th></th>\n",
       "      <th>InvoiceNo</th>\n",
       "      <th>StockCode</th>\n",
       "      <th>Description</th>\n",
       "      <th>Quantity</th>\n",
       "      <th>InvoiceDate</th>\n",
       "      <th>UnitPrice</th>\n",
       "      <th>CustomerID</th>\n",
       "      <th>Country</th>\n",
       "    </tr>\n",
       "  </thead>\n",
       "  <tbody>\n",
       "    <tr>\n",
       "      <th>0</th>\n",
       "      <td>572300</td>\n",
       "      <td>22423</td>\n",
       "      <td>REGENCY CAKESTAND 3 TIER</td>\n",
       "      <td>2.0</td>\n",
       "      <td>10/23/2011 14:40</td>\n",
       "      <td>12.75</td>\n",
       "      <td>18005.0</td>\n",
       "      <td>United Kingdom</td>\n",
       "    </tr>\n",
       "    <tr>\n",
       "      <th>1</th>\n",
       "      <td>568984</td>\n",
       "      <td>22505</td>\n",
       "      <td>MEMO BOARD COTTAGE DESIGN</td>\n",
       "      <td>1.0</td>\n",
       "      <td>9/29/2011 15:57</td>\n",
       "      <td>4.95</td>\n",
       "      <td>17813.0</td>\n",
       "      <td>United Kingdom</td>\n",
       "    </tr>\n",
       "    <tr>\n",
       "      <th>2</th>\n",
       "      <td>573333</td>\n",
       "      <td>84997D</td>\n",
       "      <td>CHILDRENS CUTLERY POLKADOT PINK</td>\n",
       "      <td>4.0</td>\n",
       "      <td>10/30/2011 11:34</td>\n",
       "      <td>4.15</td>\n",
       "      <td>12483.0</td>\n",
       "      <td>Sweden</td>\n",
       "    </tr>\n",
       "    <tr>\n",
       "      <th>3</th>\n",
       "      <td>551988</td>\n",
       "      <td>22673</td>\n",
       "      <td>FRENCH GARDEN SIGN BLUE METAL</td>\n",
       "      <td>12.0</td>\n",
       "      <td>5/5/2011 15:08</td>\n",
       "      <td>1.25</td>\n",
       "      <td>12576.0</td>\n",
       "      <td>Poland</td>\n",
       "    </tr>\n",
       "    <tr>\n",
       "      <th>4</th>\n",
       "      <td>572070</td>\n",
       "      <td>21137</td>\n",
       "      <td>BLACK RECORD COVER FRAME</td>\n",
       "      <td>24.0</td>\n",
       "      <td>10/20/2011 13:37</td>\n",
       "      <td>3.39</td>\n",
       "      <td>15587.0</td>\n",
       "      <td>United Kingdom</td>\n",
       "    </tr>\n",
       "  </tbody>\n",
       "</table>\n",
       "</div>"
      ],
      "text/plain": [
       "   InvoiceNo StockCode                      Description  Quantity  \\\n",
       "0     572300     22423         REGENCY CAKESTAND 3 TIER       2.0   \n",
       "1     568984     22505        MEMO BOARD COTTAGE DESIGN       1.0   \n",
       "2     573333    84997D  CHILDRENS CUTLERY POLKADOT PINK       4.0   \n",
       "3     551988     22673    FRENCH GARDEN SIGN BLUE METAL      12.0   \n",
       "4     572070     21137         BLACK RECORD COVER FRAME      24.0   \n",
       "\n",
       "        InvoiceDate  UnitPrice  CustomerID         Country  \n",
       "0  10/23/2011 14:40      12.75     18005.0  United Kingdom  \n",
       "1   9/29/2011 15:57       4.95     17813.0  United Kingdom  \n",
       "2  10/30/2011 11:34       4.15     12483.0          Sweden  \n",
       "3    5/5/2011 15:08       1.25     12576.0          Poland  \n",
       "4  10/20/2011 13:37       3.39     15587.0  United Kingdom  "
      ]
     },
     "execution_count": 1,
     "metadata": {},
     "output_type": "execute_result"
    }
   ],
   "source": [
    "import pandas as pd\n",
    "\n",
    "# Read the data\n",
    "data = pd.read_csv('ecommerce_lite.csv')\n",
    "\n",
    "# Print the first five rows\n",
    "data.head()"
   ]
  },
  {
   "cell_type": "markdown",
   "metadata": {},
   "source": [
    "### Descriptive Statistics Calculations"
   ]
  },
  {
   "cell_type": "code",
   "execution_count": 14,
   "metadata": {},
   "outputs": [
    {
     "data": {
      "text/plain": [
       "1.0      7151\n",
       "12.0     5992\n",
       "2.0      5870\n",
       "6.0      3748\n",
       "4.0      3093\n",
       "         ... \n",
       "270.0       1\n",
       "43.0        1\n",
       "54.0        1\n",
       "89.0        1\n",
       "468.0       1\n",
       "Name: Quantity, Length: 133, dtype: int64"
      ]
     },
     "execution_count": 14,
     "metadata": {},
     "output_type": "execute_result"
    }
   ],
   "source": [
    "data['Quantity'].value_counts() # Counting the number of each value in the column, mode revealed"
   ]
  },
  {
   "cell_type": "code",
   "execution_count": 16,
   "metadata": {},
   "outputs": [
    {
     "data": {
      "text/plain": [
       "count    39411.000000\n",
       "mean        12.582401\n",
       "std         42.461230\n",
       "min          1.000000\n",
       "25%          2.000000\n",
       "50%          6.000000\n",
       "75%         12.000000\n",
       "max       4300.000000\n",
       "Name: Quantity, dtype: float64"
      ]
     },
     "execution_count": 16,
     "metadata": {},
     "output_type": "execute_result"
    }
   ],
   "source": [
    "data['Quantity'].describe() # Descriptive statistics(Mean, median(Q2), Quartiles)"
   ]
  },
  {
   "cell_type": "code",
   "execution_count": 20,
   "metadata": {},
   "outputs": [
    {
     "name": "stdout",
     "output_type": "stream",
     "text": [
      "IQR: 10.0\n"
     ]
    }
   ],
   "source": [
    "# Calculate IQR\n",
    "\n",
    "IQR = data['Quantity'].quantile(0.75) - data['Quantity'].quantile(0.25)\n",
    "print(f'IQR: {IQR}')"
   ]
  },
  {
   "attachments": {},
   "cell_type": "markdown",
   "metadata": {},
   "source": [
    "### Identifying Outliers"
   ]
  },
  {
   "cell_type": "code",
   "execution_count": 18,
   "metadata": {},
   "outputs": [
    {
     "name": "stdout",
     "output_type": "stream",
     "text": [
      "Batas bawah: -13.00\n",
      "Batas atas: 27.00\n",
      "Jumlah outliers: 2512\n"
     ]
    }
   ],
   "source": [
    "batas_bawah = data['Quantity'].quantile(0.25) - 1.5 * IQR\n",
    "batas_atas = data['Quantity'].quantile(0.75) + 1.5 * IQR\n",
    "\n",
    "print(f'Batas bawah: {batas_bawah:.2f}')\n",
    "print(f'Batas atas: {batas_atas:.2f}')\n",
    "\n",
    "outliers = data[(data['Quantity'] < batas_bawah) | (data['Quantity'] > batas_atas)]\n",
    "print(f'Jumlah outliers: {len(outliers)}')"
   ]
  },
  {
   "attachments": {},
   "cell_type": "markdown",
   "metadata": {},
   "source": [
    "### Generate Histogram"
   ]
  },
  {
   "cell_type": "code",
   "execution_count": 5,
   "metadata": {},
   "outputs": [
    {
     "data": {
      "image/png": "[encoded data removed]",
      "text/plain": [
       "<Figure size 720x360 with 1 Axes>"
      ]
     },
     "metadata": {
      "needs_background": "light"
     },
     "output_type": "display_data"
    }
   ],
   "source": [
    "import matplotlib.pyplot as plt\n",
    "\n",
    "# Create Histogram\n",
    "plt.figure(figsize=(10, 5))\n",
    "plt.hist(data['Quantity'], bins=100, range=(0, 100))\n",
    "plt.xlabel('Quantity')\n",
    "plt.ylabel('Frequency')\n",
    "plt.title('Distribution of Quantity')\n",
    "plt.show()"
   ]
  },
  {
   "attachments": {},
   "cell_type": "markdown",
   "metadata": {},
   "source": [
    "# Visualisasi Data"
   ]
  },
  {
   "attachments": {},
   "cell_type": "markdown",
   "metadata": {},
   "source": [
    "### Total Sales for Stock Code = '2243' for each country"
   ]
  },
  {
   "cell_type": "code",
   "execution_count": 6,
   "metadata": {},
   "outputs": [
    {
     "name": "stdout",
     "output_type": "stream",
     "text": [
      "Country\n",
      "Australia          32.0\n",
      "Belgium             3.0\n",
      "EIRE               33.0\n",
      "France             34.0\n",
      "Germany           105.0\n",
      "Greece             16.0\n",
      "Norway              4.0\n",
      "United Kingdom    861.0\n",
      "Name: Quantity, dtype: float64\n"
     ]
    },
    {
     "data": {
      "image/png": "[encoded data removed]",
      "text/plain": [
       "<Figure size 720x360 with 1 Axes>"
      ]
     },
     "metadata": {
      "needs_background": "light"
     },
     "output_type": "display_data"
    }
   ],
   "source": [
    "import matplotlib.pyplot as plt\n",
    "\n",
    "data_22423 = data.loc[data['StockCode'] == '22423']\n",
    "\n",
    "data_22423_country = data_22423.groupby('Country')['Quantity'].sum()\n",
    "\n",
    "print(data_22423_country)\n",
    "\n",
    "plt.figure(figsize=(10, 5))\n",
    "plt.bar(data_22423_country.index, data_22423_country.values)\n",
    "plt.xlabel('Country')\n",
    "plt.ylabel('Quantity')\n",
    "plt.title('Quantity of 22423 per Country')\n",
    "plt.show()"
   ]
  },
  {
   "attachments": {},
   "cell_type": "markdown",
   "metadata": {},
   "source": [
    "### Percentage Sales for StockCode = '2243' for each country"
   ]
  },
  {
   "cell_type": "code",
   "execution_count": 7,
   "metadata": {},
   "outputs": [
    {
     "data": {
      "image/png": "[encoded data removed]",
      "text/plain": [
       "<Figure size 720x720 with 1 Axes>"
      ]
     },
     "metadata": {},
     "output_type": "display_data"
    }
   ],
   "source": [
    "# Generate pie chart\n",
    "plt.figure(figsize=(10, 10))\n",
    "plt.pie(data_22423_country.values, labels=data_22423_country.index, autopct='%1.1f%%')\n",
    "plt.title('Quantity of 22423 per Country')\n",
    "plt.show()"
   ]
  },
  {
   "attachments": {},
   "cell_type": "markdown",
   "metadata": {},
   "source": [
    "### Top Five Highest Sales Rate based on StockCode"
   ]
  },
  {
   "cell_type": "code",
   "execution_count": 8,
   "metadata": {},
   "outputs": [
    {
     "name": "stdout",
     "output_type": "stream",
     "text": [
      "StockCode\n",
      "22197     7770.0\n",
      "85099B    6675.0\n",
      "85123A    6461.0\n",
      "84077     3916.0\n",
      "21212     3629.0\n",
      "Name: Quantity, dtype: float64\n"
     ]
    },
    {
     "data": {
      "image/png": "[encoded data removed]",
      "text/plain": [
       "<Figure size 720x360 with 1 Axes>"
      ]
     },
     "metadata": {
      "needs_background": "light"
     },
     "output_type": "display_data"
    }
   ],
   "source": [
    "data_sales = data.groupby('StockCode')['Quantity'].sum().sort_values(ascending=False).head()\n",
    "print(data_sales)\n",
    "\n",
    "plt.figure(figsize=(10, 5))\n",
    "plt.bar(data_sales.index, data_sales.values)\n",
    "plt.xlabel('Stock Code')\n",
    "plt.ylabel('Quantity')\n",
    "plt.title('Top 5 Sales')\n",
    "plt.show()"
   ]
  }
 ],
 "metadata": {
  "kernelspec": {
   "display_name": "Python 3",
   "language": "python",
   "name": "python3"
  },
  "language_info": {
   "codemirror_mode": {
    "name": "ipython",
    "version": 3
   },
   "file_extension": ".py",
   "mimetype": "text/x-python",
   "name": "python",
   "nbconvert_exporter": "python",
   "pygments_lexer": "ipython3",
   "version": "3.7.6"
  },
  "orig_nbformat": 4
 },
 "nbformat": 4,
 "nbformat_minor": 2
}
